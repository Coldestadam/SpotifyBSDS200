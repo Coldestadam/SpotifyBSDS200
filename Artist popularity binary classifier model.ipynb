{
 "cells": [
  {
   "cell_type": "code",
   "execution_count": 386,
   "metadata": {},
   "outputs": [],
   "source": [
    "import sqlalchemy as db\n",
    "import numpy as np\n",
    "import pandas as pd\n",
    "import matplotlib.pyplot as plt\n",
    "import seaborn as sns\n",
    "from sklearn import metrics\n",
    "from sklearn.linear_model import LogisticRegression\n",
    "from sklearn.model_selection import train_test_split\n",
    "from sklearn.metrics import classification_report\n",
    "from sklearn.metrics import confusion_matrix\n",
    "from sklearn.metrics import plot_roc_curve\n",
    "\n",
    "%matplotlib inline\n",
    "%config InLineBackend.figure_format='retina'"
   ]
  },
  {
   "cell_type": "code",
   "execution_count": 342,
   "metadata": {},
   "outputs": [],
   "source": [
    "user = 'wnbentley'\n",
    "password = 'December9'\n",
    "database = 'postgresql://{}:{}@bsds200.c3ogcwmqzllz.us-east-1.rds.amazonaws.com/bsdsclass'.format(user, password)\n",
    "\n",
    "engine = db.create_engine(database)"
   ]
  },
  {
   "cell_type": "code",
   "execution_count": 343,
   "metadata": {},
   "outputs": [],
   "source": [
    "query = \"\"\"Select *\n",
    "    From\n",
    "        (Select \n",
    "            count(name) as observation_ct, max(tweets) as tweets, max(following) as following, \n",
    "            max(followers) as followers, max(likes) as likes, max(media) as media, \n",
    "            max(verified) as verified, username \n",
    "        From \n",
    "            song_pop.twitter\n",
    "        where username in (select distinct username from song_pop.artist_socials) \n",
    "        group by username) as LHS\n",
    "    Inner Join    \n",
    "        (select username, artist_id, follower_count as Spotify_follower_ct\n",
    "        from \n",
    "            song_pop.artist_socials) as RHS\n",
    "    on LHS.username=RHS.username;\"\"\"\n",
    "with engine.connect() as con:\n",
    "    #result = con.execute(query)\n",
    "    q2data = pd.read_sql(query, con)"
   ]
  },
  {
   "cell_type": "code",
   "execution_count": 344,
   "metadata": {
    "scrolled": false
   },
   "outputs": [
    {
     "name": "stdout",
     "output_type": "stream",
     "text": [
      "Index(['observation_ct', 'tweets', 'following', 'followers', 'likes', 'media',\n",
      "       'verified', 'username', 'username', 'artist_id', 'spotify_follower_ct'],\n",
      "      dtype='object')\n",
      "(38021, 11)\n"
     ]
    },
    {
     "data": {
      "text/html": [
       "<div>\n",
       "<style scoped>\n",
       "    .dataframe tbody tr th:only-of-type {\n",
       "        vertical-align: middle;\n",
       "    }\n",
       "\n",
       "    .dataframe tbody tr th {\n",
       "        vertical-align: top;\n",
       "    }\n",
       "\n",
       "    .dataframe thead th {\n",
       "        text-align: right;\n",
       "    }\n",
       "</style>\n",
       "<table border=\"1\" class=\"dataframe\">\n",
       "  <thead>\n",
       "    <tr style=\"text-align: right;\">\n",
       "      <th></th>\n",
       "      <th>observation_ct</th>\n",
       "      <th>tweets</th>\n",
       "      <th>following</th>\n",
       "      <th>followers</th>\n",
       "      <th>likes</th>\n",
       "      <th>media</th>\n",
       "      <th>verified</th>\n",
       "      <th>username</th>\n",
       "      <th>username</th>\n",
       "      <th>artist_id</th>\n",
       "      <th>spotify_follower_ct</th>\n",
       "    </tr>\n",
       "  </thead>\n",
       "  <tbody>\n",
       "    <tr>\n",
       "      <th>0</th>\n",
       "      <td>2</td>\n",
       "      <td>5549.0</td>\n",
       "      <td>1046.0</td>\n",
       "      <td>3898.0</td>\n",
       "      <td>20089.0</td>\n",
       "      <td>271</td>\n",
       "      <td>0.0</td>\n",
       "      <td>tailsxbeats</td>\n",
       "      <td>tailsxbeats</td>\n",
       "      <td>007nYTXRhZJUZGH7ct5Y3v</td>\n",
       "      <td>7789</td>\n",
       "    </tr>\n",
       "    <tr>\n",
       "      <th>1</th>\n",
       "      <td>1</td>\n",
       "      <td>12375.0</td>\n",
       "      <td>143.0</td>\n",
       "      <td>516.0</td>\n",
       "      <td>1384.0</td>\n",
       "      <td>1416</td>\n",
       "      <td>0.0</td>\n",
       "      <td>Flasht_pmg</td>\n",
       "      <td>Flasht_pmg</td>\n",
       "      <td>007pt2ONVI5ZWisox0DoP3</td>\n",
       "      <td>99</td>\n",
       "    </tr>\n",
       "    <tr>\n",
       "      <th>2</th>\n",
       "      <td>1</td>\n",
       "      <td>596.0</td>\n",
       "      <td>377.0</td>\n",
       "      <td>227.0</td>\n",
       "      <td>641.0</td>\n",
       "      <td>113</td>\n",
       "      <td>0.0</td>\n",
       "      <td>fabianluttenb</td>\n",
       "      <td>fabianluttenb</td>\n",
       "      <td>00A9Xt6NyGD5bldz9OnCbe</td>\n",
       "      <td>1578</td>\n",
       "    </tr>\n",
       "    <tr>\n",
       "      <th>3</th>\n",
       "      <td>1</td>\n",
       "      <td>675.0</td>\n",
       "      <td>109.0</td>\n",
       "      <td>23449.0</td>\n",
       "      <td>160.0</td>\n",
       "      <td>70</td>\n",
       "      <td>0.0</td>\n",
       "      <td>Vienna_Phil</td>\n",
       "      <td>Vienna_Phil</td>\n",
       "      <td>003f4bk13c6Q3gAUXv7dGJ</td>\n",
       "      <td>68964</td>\n",
       "    </tr>\n",
       "    <tr>\n",
       "      <th>4</th>\n",
       "      <td>2</td>\n",
       "      <td>2670.0</td>\n",
       "      <td>250.0</td>\n",
       "      <td>1955.0</td>\n",
       "      <td>1968.0</td>\n",
       "      <td>296</td>\n",
       "      <td>1.0</td>\n",
       "      <td>mwc_music</td>\n",
       "      <td>mwc_music</td>\n",
       "      <td>00b3RKsk2pv5VWSnYAKW8u</td>\n",
       "      <td>9489</td>\n",
       "    </tr>\n",
       "    <tr>\n",
       "      <th>5</th>\n",
       "      <td>2</td>\n",
       "      <td>10883.0</td>\n",
       "      <td>704.0</td>\n",
       "      <td>6997.0</td>\n",
       "      <td>2449.0</td>\n",
       "      <td>1183</td>\n",
       "      <td>1.0</td>\n",
       "      <td>jimmoray</td>\n",
       "      <td>jimmoray</td>\n",
       "      <td>00baC9BEnC6lhOdSF6dYC8</td>\n",
       "      <td>2607</td>\n",
       "    </tr>\n",
       "    <tr>\n",
       "      <th>6</th>\n",
       "      <td>2</td>\n",
       "      <td>33.0</td>\n",
       "      <td>3.0</td>\n",
       "      <td>20.0</td>\n",
       "      <td>35.0</td>\n",
       "      <td>4</td>\n",
       "      <td>0.0</td>\n",
       "      <td>m11sound</td>\n",
       "      <td>m11sound</td>\n",
       "      <td>00BAIPDOmSHZblGig3Tnwe</td>\n",
       "      <td>182</td>\n",
       "    </tr>\n",
       "    <tr>\n",
       "      <th>7</th>\n",
       "      <td>2</td>\n",
       "      <td>493.0</td>\n",
       "      <td>29.0</td>\n",
       "      <td>1906.0</td>\n",
       "      <td>1560.0</td>\n",
       "      <td>206</td>\n",
       "      <td>0.0</td>\n",
       "      <td>PLANETmusicau</td>\n",
       "      <td>PLANETmusicau</td>\n",
       "      <td>00BZcQJXuUSMVEB9FVqgUl</td>\n",
       "      <td>4494</td>\n",
       "    </tr>\n",
       "    <tr>\n",
       "      <th>8</th>\n",
       "      <td>1</td>\n",
       "      <td>61.0</td>\n",
       "      <td>162.0</td>\n",
       "      <td>74.0</td>\n",
       "      <td>1.0</td>\n",
       "      <td>54</td>\n",
       "      <td>0.0</td>\n",
       "      <td>quietquestmusic</td>\n",
       "      <td>quietquestmusic</td>\n",
       "      <td>00cCHU2E098Qnj8RvxumFn</td>\n",
       "      <td>91</td>\n",
       "    </tr>\n",
       "    <tr>\n",
       "      <th>9</th>\n",
       "      <td>1</td>\n",
       "      <td>579.0</td>\n",
       "      <td>42.0</td>\n",
       "      <td>2277.0</td>\n",
       "      <td>509.0</td>\n",
       "      <td>110</td>\n",
       "      <td>0.0</td>\n",
       "      <td>Suzanemusique</td>\n",
       "      <td>Suzanemusique</td>\n",
       "      <td>00CTomLgA78xvwEwL0woWx</td>\n",
       "      <td>25045</td>\n",
       "    </tr>\n",
       "  </tbody>\n",
       "</table>\n",
       "</div>"
      ],
      "text/plain": [
       "   observation_ct   tweets  following  followers    likes media  verified  \\\n",
       "0               2   5549.0     1046.0     3898.0  20089.0   271       0.0   \n",
       "1               1  12375.0      143.0      516.0   1384.0  1416       0.0   \n",
       "2               1    596.0      377.0      227.0    641.0   113       0.0   \n",
       "3               1    675.0      109.0    23449.0    160.0    70       0.0   \n",
       "4               2   2670.0      250.0     1955.0   1968.0   296       1.0   \n",
       "5               2  10883.0      704.0     6997.0   2449.0  1183       1.0   \n",
       "6               2     33.0        3.0       20.0     35.0     4       0.0   \n",
       "7               2    493.0       29.0     1906.0   1560.0   206       0.0   \n",
       "8               1     61.0      162.0       74.0      1.0    54       0.0   \n",
       "9               1    579.0       42.0     2277.0    509.0   110       0.0   \n",
       "\n",
       "          username         username               artist_id  \\\n",
       "0      tailsxbeats      tailsxbeats  007nYTXRhZJUZGH7ct5Y3v   \n",
       "1       Flasht_pmg       Flasht_pmg  007pt2ONVI5ZWisox0DoP3   \n",
       "2    fabianluttenb    fabianluttenb  00A9Xt6NyGD5bldz9OnCbe   \n",
       "3      Vienna_Phil      Vienna_Phil  003f4bk13c6Q3gAUXv7dGJ   \n",
       "4        mwc_music        mwc_music  00b3RKsk2pv5VWSnYAKW8u   \n",
       "5         jimmoray         jimmoray  00baC9BEnC6lhOdSF6dYC8   \n",
       "6         m11sound         m11sound  00BAIPDOmSHZblGig3Tnwe   \n",
       "7    PLANETmusicau    PLANETmusicau  00BZcQJXuUSMVEB9FVqgUl   \n",
       "8  quietquestmusic  quietquestmusic  00cCHU2E098Qnj8RvxumFn   \n",
       "9    Suzanemusique    Suzanemusique  00CTomLgA78xvwEwL0woWx   \n",
       "\n",
       "   spotify_follower_ct  \n",
       "0                 7789  \n",
       "1                   99  \n",
       "2                 1578  \n",
       "3                68964  \n",
       "4                 9489  \n",
       "5                 2607  \n",
       "6                  182  \n",
       "7                 4494  \n",
       "8                   91  \n",
       "9                25045  "
      ]
     },
     "execution_count": 344,
     "metadata": {},
     "output_type": "execute_result"
    }
   ],
   "source": [
    "print(q2data.columns)\n",
    "print(q2data.shape)\n",
    "q2data.head(10)"
   ]
  },
  {
   "cell_type": "code",
   "execution_count": 345,
   "metadata": {},
   "outputs": [
    {
     "data": {
      "text/plain": [
       "observation_ct           0\n",
       "tweets                 120\n",
       "following              120\n",
       "followers              120\n",
       "likes                  120\n",
       "media                  120\n",
       "verified               120\n",
       "username                 0\n",
       "username                 0\n",
       "artist_id                0\n",
       "spotify_follower_ct      0\n",
       "dtype: int64"
      ]
     },
     "execution_count": 345,
     "metadata": {},
     "output_type": "execute_result"
    }
   ],
   "source": [
    "q2data.isnull().sum()"
   ]
  },
  {
   "cell_type": "code",
   "execution_count": 346,
   "metadata": {},
   "outputs": [],
   "source": [
    "# Remove all nulls\n",
    "q2data = q2data.dropna()"
   ]
  },
  {
   "cell_type": "code",
   "execution_count": 347,
   "metadata": {
    "scrolled": true
   },
   "outputs": [
    {
     "name": "stdout",
     "output_type": "stream",
     "text": [
      "59523.0\n"
     ]
    }
   ],
   "source": [
    "popular_threshold = q2data['spotify_follower_ct'].quantile(0.90)\n",
    "print(popular_threshold)"
   ]
  },
  {
   "cell_type": "code",
   "execution_count": 348,
   "metadata": {},
   "outputs": [
    {
     "data": {
      "text/plain": [
       "0         True\n",
       "1         True\n",
       "2         True\n",
       "3        False\n",
       "4         True\n",
       "         ...  \n",
       "38016     True\n",
       "38017     True\n",
       "38018     True\n",
       "38019     True\n",
       "38020     True\n",
       "Name: spotify_follower_ct, Length: 37901, dtype: bool"
      ]
     },
     "execution_count": 348,
     "metadata": {},
     "output_type": "execute_result"
    }
   ],
   "source": [
    "popular_threshold\n",
    "\n",
    "(q2data.spotify_follower_ct <= popular_threshold)"
   ]
  },
  {
   "cell_type": "code",
   "execution_count": 349,
   "metadata": {},
   "outputs": [
    {
     "data": {
      "text/html": [
       "<div>\n",
       "<style scoped>\n",
       "    .dataframe tbody tr th:only-of-type {\n",
       "        vertical-align: middle;\n",
       "    }\n",
       "\n",
       "    .dataframe tbody tr th {\n",
       "        vertical-align: top;\n",
       "    }\n",
       "\n",
       "    .dataframe thead th {\n",
       "        text-align: right;\n",
       "    }\n",
       "</style>\n",
       "<table border=\"1\" class=\"dataframe\">\n",
       "  <thead>\n",
       "    <tr style=\"text-align: right;\">\n",
       "      <th></th>\n",
       "      <th>observation_ct</th>\n",
       "      <th>tweets</th>\n",
       "      <th>following</th>\n",
       "      <th>followers</th>\n",
       "      <th>likes</th>\n",
       "      <th>media</th>\n",
       "      <th>verified</th>\n",
       "      <th>username</th>\n",
       "      <th>username</th>\n",
       "      <th>artist_id</th>\n",
       "      <th>spotify_follower_ct</th>\n",
       "      <th>popular</th>\n",
       "    </tr>\n",
       "  </thead>\n",
       "  <tbody>\n",
       "    <tr>\n",
       "      <th>0</th>\n",
       "      <td>2</td>\n",
       "      <td>5549.0</td>\n",
       "      <td>1046.0</td>\n",
       "      <td>3898.0</td>\n",
       "      <td>20089.0</td>\n",
       "      <td>271</td>\n",
       "      <td>0.0</td>\n",
       "      <td>tailsxbeats</td>\n",
       "      <td>tailsxbeats</td>\n",
       "      <td>007nYTXRhZJUZGH7ct5Y3v</td>\n",
       "      <td>7789</td>\n",
       "      <td>0</td>\n",
       "    </tr>\n",
       "    <tr>\n",
       "      <th>1</th>\n",
       "      <td>1</td>\n",
       "      <td>12375.0</td>\n",
       "      <td>143.0</td>\n",
       "      <td>516.0</td>\n",
       "      <td>1384.0</td>\n",
       "      <td>1416</td>\n",
       "      <td>0.0</td>\n",
       "      <td>Flasht_pmg</td>\n",
       "      <td>Flasht_pmg</td>\n",
       "      <td>007pt2ONVI5ZWisox0DoP3</td>\n",
       "      <td>99</td>\n",
       "      <td>0</td>\n",
       "    </tr>\n",
       "    <tr>\n",
       "      <th>2</th>\n",
       "      <td>1</td>\n",
       "      <td>596.0</td>\n",
       "      <td>377.0</td>\n",
       "      <td>227.0</td>\n",
       "      <td>641.0</td>\n",
       "      <td>113</td>\n",
       "      <td>0.0</td>\n",
       "      <td>fabianluttenb</td>\n",
       "      <td>fabianluttenb</td>\n",
       "      <td>00A9Xt6NyGD5bldz9OnCbe</td>\n",
       "      <td>1578</td>\n",
       "      <td>0</td>\n",
       "    </tr>\n",
       "    <tr>\n",
       "      <th>3</th>\n",
       "      <td>1</td>\n",
       "      <td>675.0</td>\n",
       "      <td>109.0</td>\n",
       "      <td>23449.0</td>\n",
       "      <td>160.0</td>\n",
       "      <td>70</td>\n",
       "      <td>0.0</td>\n",
       "      <td>Vienna_Phil</td>\n",
       "      <td>Vienna_Phil</td>\n",
       "      <td>003f4bk13c6Q3gAUXv7dGJ</td>\n",
       "      <td>68964</td>\n",
       "      <td>1</td>\n",
       "    </tr>\n",
       "    <tr>\n",
       "      <th>4</th>\n",
       "      <td>2</td>\n",
       "      <td>2670.0</td>\n",
       "      <td>250.0</td>\n",
       "      <td>1955.0</td>\n",
       "      <td>1968.0</td>\n",
       "      <td>296</td>\n",
       "      <td>1.0</td>\n",
       "      <td>mwc_music</td>\n",
       "      <td>mwc_music</td>\n",
       "      <td>00b3RKsk2pv5VWSnYAKW8u</td>\n",
       "      <td>9489</td>\n",
       "      <td>0</td>\n",
       "    </tr>\n",
       "  </tbody>\n",
       "</table>\n",
       "</div>"
      ],
      "text/plain": [
       "   observation_ct   tweets  following  followers    likes media  verified  \\\n",
       "0               2   5549.0     1046.0     3898.0  20089.0   271       0.0   \n",
       "1               1  12375.0      143.0      516.0   1384.0  1416       0.0   \n",
       "2               1    596.0      377.0      227.0    641.0   113       0.0   \n",
       "3               1    675.0      109.0    23449.0    160.0    70       0.0   \n",
       "4               2   2670.0      250.0     1955.0   1968.0   296       1.0   \n",
       "\n",
       "        username       username               artist_id  spotify_follower_ct  \\\n",
       "0    tailsxbeats    tailsxbeats  007nYTXRhZJUZGH7ct5Y3v                 7789   \n",
       "1     Flasht_pmg     Flasht_pmg  007pt2ONVI5ZWisox0DoP3                   99   \n",
       "2  fabianluttenb  fabianluttenb  00A9Xt6NyGD5bldz9OnCbe                 1578   \n",
       "3    Vienna_Phil    Vienna_Phil  003f4bk13c6Q3gAUXv7dGJ                68964   \n",
       "4      mwc_music      mwc_music  00b3RKsk2pv5VWSnYAKW8u                 9489   \n",
       "\n",
       "   popular  \n",
       "0        0  \n",
       "1        0  \n",
       "2        0  \n",
       "3        1  \n",
       "4        0  "
      ]
     },
     "execution_count": 349,
     "metadata": {},
     "output_type": "execute_result"
    }
   ],
   "source": [
    "# Creating label column popular/not popular (0 or 1)\n",
    "q2data['popular'] = 1\n",
    "q2data.loc[(q2data.spotify_follower_ct <= popular_threshold), 'popular'] = 0\n",
    "q2data.head()"
   ]
  },
  {
   "cell_type": "code",
   "execution_count": 350,
   "metadata": {},
   "outputs": [
    {
     "name": "stdout",
     "output_type": "stream",
     "text": [
      "0    34111\n",
      "1     3790\n",
      "Name: popular, dtype: int64\n",
      "0.09999736154718873\n"
     ]
    }
   ],
   "source": [
    "print(q2data.popular.value_counts())\n",
    "print(3790/(3790+34111))"
   ]
  },
  {
   "cell_type": "markdown",
   "metadata": {},
   "source": [
    "Question: #2 How much does an artist's Twitter presence impact their popularity?"
   ]
  },
  {
   "cell_type": "raw",
   "metadata": {},
   "source": [
    "#    The correlation matrix suggests there's no strong linear relationships between the Twitter metrics ('followers', 'following', 'likes', 'tweets', 'verified') and Spotify follower count. Since the relationship didn't seem to be linear we will not be building a linear regression model. Instead, we will build a logistic regression model which will classify artists as either 'popular' or 'not popular.'\n",
    "\n",
    "                        Z = B0 + B1(‘tweets’) + B2(‘likes’) + B3(‘following’)+ B4(‘following’) + e \n",
    "\n",
    "                        where Z = the artist is/isn’t popular\n",
    "\n",
    "    We will tune our models weights using stochastic gradient descent (SGD) to optimize for the maximum likelihood.\n",
    "Our cost function will be the binary cross-entropy loss between Z_hat and Z. After fitting the models, we will analyze which variables contributed most to performance."
   ]
  },
  {
   "cell_type": "raw",
   "metadata": {},
   "source": [
    "# Plan\n",
    "\n",
    "We want to use: \n",
    "    tweets, following, followers, likes, media, verified, username, artist_id, spotify_follower_ct, popular \n",
    "\n",
    "Columns we will not use to train model:\n",
    "    observation_ct\n",
    "    spotify_follower_ct"
   ]
  },
  {
   "cell_type": "code",
   "execution_count": 352,
   "metadata": {},
   "outputs": [
    {
     "data": {
      "text/plain": [
       "Index(['observation_ct', 'tweets', 'following', 'followers', 'likes', 'media',\n",
       "       'verified', 'username', 'username', 'artist_id', 'spotify_follower_ct',\n",
       "       'popular'],\n",
       "      dtype='object')"
      ]
     },
     "execution_count": 352,
     "metadata": {},
     "output_type": "execute_result"
    }
   ],
   "source": [
    "# Looking at columns available\n",
    "q2data.columns"
   ]
  },
  {
   "cell_type": "code",
   "execution_count": 297,
   "metadata": {},
   "outputs": [
    {
     "name": "stdout",
     "output_type": "stream",
     "text": [
      "<class 'pandas.core.frame.DataFrame'>\n",
      "Int64Index: 37901 entries, 0 to 38020\n",
      "Data columns (total 12 columns):\n",
      " #   Column               Non-Null Count  Dtype \n",
      "---  ------               --------------  ----- \n",
      " 0   observation_ct       37901 non-null  Int64 \n",
      " 1   tweets               37901 non-null  Int64 \n",
      " 2   following            37901 non-null  Int64 \n",
      " 3   followers            37901 non-null  Int64 \n",
      " 4   likes                37901 non-null  Int64 \n",
      " 5   media                37901 non-null  string\n",
      " 6   verified             37901 non-null  Int64 \n",
      " 7   username             37901 non-null  string\n",
      " 8   username             37901 non-null  string\n",
      " 9   artist_id            37901 non-null  string\n",
      " 10  spotify_follower_ct  37901 non-null  Int64 \n",
      " 11  popular              37901 non-null  Int64 \n",
      "dtypes: Int64(8), string(4)\n",
      "memory usage: 4.0 MB\n"
     ]
    }
   ],
   "source": [
    "q2data = q2data.convert_dtypes()\n",
    "q2data.info()"
   ]
  },
  {
   "cell_type": "code",
   "execution_count": 298,
   "metadata": {
    "scrolled": true
   },
   "outputs": [
    {
     "name": "stdout",
     "output_type": "stream",
     "text": [
      "<class 'pandas.core.frame.DataFrame'>\n",
      "Int64Index: 37901 entries, 0 to 38020\n",
      "Data columns (total 12 columns):\n",
      " #   Column               Non-Null Count  Dtype   \n",
      "---  ------               --------------  -----   \n",
      " 0   observation_ct       37901 non-null  Int64   \n",
      " 1   tweets               37901 non-null  Int64   \n",
      " 2   following            37901 non-null  Int64   \n",
      " 3   followers            37901 non-null  Int64   \n",
      " 4   likes                37901 non-null  Int64   \n",
      " 5   media                37901 non-null  string  \n",
      " 6   verified             37901 non-null  category\n",
      " 7   username             37901 non-null  string  \n",
      " 8   username             37901 non-null  string  \n",
      " 9   artist_id            37901 non-null  string  \n",
      " 10  spotify_follower_ct  37901 non-null  Int64   \n",
      " 11  popular              37901 non-null  Int64   \n",
      "dtypes: Int64(7), category(1), string(4)\n",
      "memory usage: 3.8 MB\n"
     ]
    }
   ],
   "source": [
    "# Making the 'verified' column a category\n",
    "q2data['verified'] = q2data['verified'].astype('category')\n",
    "q2data.info()"
   ]
  },
  {
   "cell_type": "code",
   "execution_count": 299,
   "metadata": {},
   "outputs": [],
   "source": [
    "# Selecting feature columns \n",
    "x = q2data.loc[:, ['tweets', 'following', 'followers', \n",
    "                'likes', 'media', 'verified', 'spotify_follower_ct']] \n",
    "x = x.dropna()"
   ]
  },
  {
   "cell_type": "code",
   "execution_count": 300,
   "metadata": {},
   "outputs": [],
   "source": [
    "# Selecting target column\n",
    "y = q2data.loc[:, 'popular']\n",
    "\n",
    "y = y.dropna()"
   ]
  },
  {
   "cell_type": "code",
   "execution_count": 301,
   "metadata": {
    "scrolled": true
   },
   "outputs": [
    {
     "name": "stdout",
     "output_type": "stream",
     "text": [
      "(30320, 7) (30320,)\n",
      "(7581, 7) (7581,)\n"
     ]
    }
   ],
   "source": [
    "# create training and testing vars\n",
    "x_train, x_test, y_train, y_test = train_test_split(x, y, test_size=0.2, random_state=0)\n",
    "print(x_train.shape, y_train.shape)\n",
    "print(x_test.shape, y_test.shape)"
   ]
  },
  {
   "cell_type": "code",
   "execution_count": 306,
   "metadata": {},
   "outputs": [],
   "source": [
    "# Cast data types as integers\n",
    "y_train = y_train.astype('int')\n",
    "y_test = y_test.astype('int')"
   ]
  },
  {
   "cell_type": "code",
   "execution_count": 327,
   "metadata": {},
   "outputs": [],
   "source": [
    "# Create model\n",
    "model = LogisticRegression(multi_class='ovr' , max_iter=1000, random_state=10)"
   ]
  },
  {
   "cell_type": "code",
   "execution_count": 328,
   "metadata": {},
   "outputs": [],
   "source": [
    "# fit model\n",
    "model = model.fit(x_train.values, y_train.values)"
   ]
  },
  {
   "cell_type": "code",
   "execution_count": 353,
   "metadata": {},
   "outputs": [],
   "source": [
    "# Predict model\n",
    "y_pred = model.predict(x_test)"
   ]
  },
  {
   "cell_type": "code",
   "execution_count": 354,
   "metadata": {},
   "outputs": [
    {
     "name": "stdout",
     "output_type": "stream",
     "text": [
      "Accuracy: 0.9990766389658357\n"
     ]
    }
   ],
   "source": [
    "print(\"Accuracy:\", metrics.accuracy_score(y_test, y_pred))"
   ]
  },
  {
   "cell_type": "code",
   "execution_count": 355,
   "metadata": {},
   "outputs": [
    {
     "name": "stdout",
     "output_type": "stream",
     "text": [
      "              precision    recall  f1-score   support\n",
      "\n",
      "           0       1.00      1.00      1.00      6855\n",
      "           1       0.99      1.00      1.00       726\n",
      "\n",
      "    accuracy                           1.00      7581\n",
      "   macro avg       1.00      1.00      1.00      7581\n",
      "weighted avg       1.00      1.00      1.00      7581\n",
      "\n"
     ]
    }
   ],
   "source": [
    "print(classification_report(y_test, y_pred))"
   ]
  },
  {
   "cell_type": "code",
   "execution_count": 356,
   "metadata": {
    "scrolled": false
   },
   "outputs": [
    {
     "name": "stdout",
     "output_type": "stream",
     "text": [
      "Mean Absolute Error: 0.0009233610341643582\n",
      "Mean Squared Error: 0.0009233610341643582\n"
     ]
    }
   ],
   "source": [
    "print('Mean Absolute Error:', metrics.mean_absolute_error(y_test, y_pred))\n",
    "print('Mean Squared Error:', metrics.mean_squared_error(y_test, y_pred))"
   ]
  },
  {
   "cell_type": "code",
   "execution_count": 357,
   "metadata": {
    "scrolled": true
   },
   "outputs": [
    {
     "name": "stdout",
     "output_type": "stream",
     "text": [
      "[[6849    6]\n",
      " [   1  725]]\n"
     ]
    }
   ],
   "source": [
    "confusion_matrix = confusion_matrix(y_test, y_pred)\n",
    "print(confusion_matrix)"
   ]
  },
  {
   "cell_type": "code",
   "execution_count": 375,
   "metadata": {
    "scrolled": true
   },
   "outputs": [
    {
     "data": {
      "text/plain": [
       "<matplotlib.axes._subplots.AxesSubplot at 0x1f7627e54e0>"
      ]
     },
     "execution_count": 375,
     "metadata": {},
     "output_type": "execute_result"
    },
    {
     "data": {
      "image/png": "[encoded data removed]",
      "text/plain": [
       "<Figure size 432x288 with 2 Axes>"
      ]
     },
     "metadata": {
      "needs_background": "light"
     },
     "output_type": "display_data"
    }
   ],
   "source": [
    "group_names = ['True Neg','False Pos','False Neg','True Pos']\n",
    "group_counts = [\"{0:0.0f}\".format(value) for value in\n",
    "                confusion_matrix.flatten()]\n",
    "group_percentages = [\"{0:.2%}\".format(value) for value in confusion_matrix.flatten()/np.sum(confusion_matrix)]\n",
    "labels = [f\"{v1}\\n{v2}\\n{v3}\" for v1, v2, v3 in\n",
    "          zip(group_names,group_counts,group_percentages)]\n",
    "labels = np.asarray(labels).reshape(2,2)\n",
    "sns.heatmap(confusion_matrix, annot=labels, fmt='', cmap='Blues')"
   ]
  }
 ],
 "metadata": {
  "kernelspec": {
   "display_name": "Python 3",
   "language": "python",
   "name": "python3"
  },
  "language_info": {
   "codemirror_mode": {
    "name": "ipython",
    "version": 3
   },
   "file_extension": ".py",
   "mimetype": "text/x-python",
   "name": "python",
   "nbconvert_exporter": "python",
   "pygments_lexer": "ipython3",
   "version": "3.7.3"
  }
 },
 "nbformat": 4,
 "nbformat_minor": 2
}
